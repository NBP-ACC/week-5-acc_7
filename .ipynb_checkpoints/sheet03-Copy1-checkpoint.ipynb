{
 "cells": [
  {
   "cell_type": "markdown",
   "metadata": {},
   "source": [
    "Osnabrück University - A&C: Computational Cognition (Summer Term 2019)"
   ]
  },
  {
   "cell_type": "markdown",
   "metadata": {},
   "source": [
    "# Exercise Sheet 03: Analysis of behavioural data"
   ]
  },
  {
   "cell_type": "markdown",
   "metadata": {},
   "source": [
    "## Introduction\n",
    "\n",
    "This week's sheet should be solved and handed in at 14:00 at **Tuesday, May 7, 2019**. If you need help (and Google and other resources were not enough), feel free to contact your tutors. Please push your results to your Github group folder.\n",
    "\n",
    "In this exercise sheet we will start to work on a real dataset from an ongoing experiment. In this experiment the participants were asked to freely explore an unknown virtual city, called Seahaven, with an interactive map. After a sufficiently long exploration the participants were tested on three different tasks: \n",
    "\n",
    "- the **absolute orientation** of a single house towards the north cardinal direction\n",
    "- the **relative orientation** between two houses \n",
    "- **pointing** from the location of one house to the other\n",
    "\n",
    "Each task type was performed in two time conditions:\n",
    "\n",
    "- **3 seconds** for spontaneous decisions\n",
    "- **infinite** response time for cognitive reasoning\n",
    "\n",
    "These measurements were repeated up to three times on different days.\n",
    "\n",
    "We will provide you with more detailed information about this experiment in the tutorial. If you are interested in more than this feel free to have a look at the paper https://www.biorxiv.org/content/10.1101/539080v1.\n",
    "\n",
    "A small side remark to the dataset: The RTs for the absolute task are exactly the same for both time conditions. This is an error that cannot be corrected on a short notice. Please keep that in mind, when you evaluate your plots."
   ]
  },
  {
   "cell_type": "markdown",
   "metadata": {},
   "source": [
    "## Assignment 0: Peer review for sheet 02 [3 pts]"
   ]
  },
  {
   "cell_type": "markdown",
   "metadata": {},
   "source": [
    "Open an issue in the repository of the groups you have to check. The title of the issue should be your group name (e.g. \"Group1). Comment on what was good and what was bad, the aesthetics and ease of reading the plots, what you would have done differently and how many points you would give them for their solutions.\n",
    "\n",
    "| * |Group 1|Group 2|Group 3|Group 4|Group 5|Group 6|Group 7|Group 8|Group 9|Group 10|Group 11|\n",
    "| ------- | ----- | ----- | ----- | ----- | ----- | ----- | ----- | ----- | ----- | ------ | ------ |\n",
    "| check solutions of group: | 11, 9 | 5, 1  | 8, 2  | 2, 7 | 10, 6 | 7, 11 | 6, 5  | 4, 3  | 3, 8  | 1, 4   | 9, 10  |"
   ]
  },
  {
   "cell_type": "markdown",
   "metadata": {},
   "source": [
    "## Assignment 1: Preprocessing [3 pts]"
   ]
  },
  {
   "cell_type": "code",
   "execution_count": 90,
   "metadata": {},
   "outputs": [],
   "source": [
    "import os\n",
    "import numpy as np\n",
    "import pandas as pd\n",
    "import matplotlib.pyplot as plt\n",
    "import seaborn as sns\n",
    "sns.set()\n",
    "from scipy import stats"
   ]
  },
  {
   "cell_type": "markdown",
   "metadata": {},
   "source": [
    "### a) Preprocessing the data [1 pt]"
   ]
  },
  {
   "cell_type": "markdown",
   "metadata": {},
   "source": [
    "First of all you should preprocess the data. This is an important step to avoid running into any problems when you start to analyse the data. Since we provide the Seahaven dataset as an excel file make sure to run ```pip install xlrd``` in your activated acc environment beforehand. This allows you to directly read from excel files.\n",
    "\n",
    "- Import the data of all three tasks (Absolute, Relative, Pointing) into one dataframe. Since we don't need the whole data, load only the columns \"ReactionTime\", \"AngularDiffBin\", \"Subject\", \"Task\", \"Time\", \"Answer\" and \"Measurement\".\n",
    "- Clean the dataframe of all NaNs, i.e. remove all rows where at least one element is missing. How many rows have been removed?\n",
    "- Change the values of the column \"Answer\". Replace each value \"wrong\" with 0 and each value \"correct\" with 1."
   ]
  },
  {
   "cell_type": "code",
   "execution_count": 91,
   "metadata": {},
   "outputs": [
    {
     "name": "stdout",
     "output_type": "stream",
     "text": [
      "Requirement already satisfied: xlrd in c:\\users\\subir\\appdata\\local\\conda\\conda\\envs\\acc\\lib\\site-packages (1.2.0)\n",
      "Total number of rows deleted =  1301\n"
     ]
    },
    {
     "data": {
      "text/html": [
       "<div>\n",
       "<style scoped>\n",
       "    .dataframe tbody tr th:only-of-type {\n",
       "        vertical-align: middle;\n",
       "    }\n",
       "\n",
       "    .dataframe tbody tr th {\n",
       "        vertical-align: top;\n",
       "    }\n",
       "\n",
       "    .dataframe thead th {\n",
       "        text-align: right;\n",
       "    }\n",
       "</style>\n",
       "<table border=\"1\" class=\"dataframe\">\n",
       "  <thead>\n",
       "    <tr style=\"text-align: right;\">\n",
       "      <th></th>\n",
       "      <th>ReactionTime</th>\n",
       "      <th>AngularDiffBin</th>\n",
       "      <th>Subject</th>\n",
       "      <th>Task</th>\n",
       "      <th>Time</th>\n",
       "      <th>Answer</th>\n",
       "      <th>Measurement</th>\n",
       "    </tr>\n",
       "  </thead>\n",
       "  <tbody>\n",
       "    <tr>\n",
       "      <th>0</th>\n",
       "      <td>1.664824</td>\n",
       "      <td>150.0</td>\n",
       "      <td>1216.0</td>\n",
       "      <td>Absolute</td>\n",
       "      <td>3sec</td>\n",
       "      <td>wrong</td>\n",
       "      <td>1.0</td>\n",
       "    </tr>\n",
       "    <tr>\n",
       "      <th>1</th>\n",
       "      <td>0.865788</td>\n",
       "      <td>30.0</td>\n",
       "      <td>1216.0</td>\n",
       "      <td>Absolute</td>\n",
       "      <td>3sec</td>\n",
       "      <td>correct</td>\n",
       "      <td>1.0</td>\n",
       "    </tr>\n",
       "    <tr>\n",
       "      <th>2</th>\n",
       "      <td>1.284187</td>\n",
       "      <td>60.0</td>\n",
       "      <td>1216.0</td>\n",
       "      <td>Absolute</td>\n",
       "      <td>3sec</td>\n",
       "      <td>wrong</td>\n",
       "      <td>1.0</td>\n",
       "    </tr>\n",
       "    <tr>\n",
       "      <th>3</th>\n",
       "      <td>2.081390</td>\n",
       "      <td>180.0</td>\n",
       "      <td>1216.0</td>\n",
       "      <td>Absolute</td>\n",
       "      <td>3sec</td>\n",
       "      <td>wrong</td>\n",
       "      <td>1.0</td>\n",
       "    </tr>\n",
       "    <tr>\n",
       "      <th>4</th>\n",
       "      <td>1.424746</td>\n",
       "      <td>120.0</td>\n",
       "      <td>1216.0</td>\n",
       "      <td>Absolute</td>\n",
       "      <td>3sec</td>\n",
       "      <td>correct</td>\n",
       "      <td>1.0</td>\n",
       "    </tr>\n",
       "    <tr>\n",
       "      <th>5</th>\n",
       "      <td>1.498336</td>\n",
       "      <td>180.0</td>\n",
       "      <td>1216.0</td>\n",
       "      <td>Absolute</td>\n",
       "      <td>3sec</td>\n",
       "      <td>correct</td>\n",
       "      <td>1.0</td>\n",
       "    </tr>\n",
       "    <tr>\n",
       "      <th>6</th>\n",
       "      <td>1.213375</td>\n",
       "      <td>150.0</td>\n",
       "      <td>1216.0</td>\n",
       "      <td>Absolute</td>\n",
       "      <td>3sec</td>\n",
       "      <td>wrong</td>\n",
       "      <td>1.0</td>\n",
       "    </tr>\n",
       "    <tr>\n",
       "      <th>7</th>\n",
       "      <td>1.248617</td>\n",
       "      <td>60.0</td>\n",
       "      <td>1216.0</td>\n",
       "      <td>Absolute</td>\n",
       "      <td>3sec</td>\n",
       "      <td>correct</td>\n",
       "      <td>1.0</td>\n",
       "    </tr>\n",
       "    <tr>\n",
       "      <th>8</th>\n",
       "      <td>0.788024</td>\n",
       "      <td>120.0</td>\n",
       "      <td>1216.0</td>\n",
       "      <td>Absolute</td>\n",
       "      <td>3sec</td>\n",
       "      <td>correct</td>\n",
       "      <td>1.0</td>\n",
       "    </tr>\n",
       "    <tr>\n",
       "      <th>9</th>\n",
       "      <td>1.573254</td>\n",
       "      <td>90.0</td>\n",
       "      <td>1216.0</td>\n",
       "      <td>Absolute</td>\n",
       "      <td>3sec</td>\n",
       "      <td>correct</td>\n",
       "      <td>1.0</td>\n",
       "    </tr>\n",
       "    <tr>\n",
       "      <th>...</th>\n",
       "      <td>...</td>\n",
       "      <td>...</td>\n",
       "      <td>...</td>\n",
       "      <td>...</td>\n",
       "      <td>...</td>\n",
       "      <td>...</td>\n",
       "      <td>...</td>\n",
       "    </tr>\n",
       "    <tr>\n",
       "      <th>7190</th>\n",
       "      <td>6.566712</td>\n",
       "      <td>90.0</td>\n",
       "      <td>9998.0</td>\n",
       "      <td>Pointing</td>\n",
       "      <td>Infinite</td>\n",
       "      <td>wrong</td>\n",
       "      <td>1.0</td>\n",
       "    </tr>\n",
       "    <tr>\n",
       "      <th>7191</th>\n",
       "      <td>5.076389</td>\n",
       "      <td>120.0</td>\n",
       "      <td>9998.0</td>\n",
       "      <td>Pointing</td>\n",
       "      <td>Infinite</td>\n",
       "      <td>wrong</td>\n",
       "      <td>1.0</td>\n",
       "    </tr>\n",
       "    <tr>\n",
       "      <th>7192</th>\n",
       "      <td>6.590226</td>\n",
       "      <td>60.0</td>\n",
       "      <td>9998.0</td>\n",
       "      <td>Pointing</td>\n",
       "      <td>Infinite</td>\n",
       "      <td>wrong</td>\n",
       "      <td>1.0</td>\n",
       "    </tr>\n",
       "    <tr>\n",
       "      <th>7193</th>\n",
       "      <td>5.707828</td>\n",
       "      <td>120.0</td>\n",
       "      <td>9998.0</td>\n",
       "      <td>Pointing</td>\n",
       "      <td>Infinite</td>\n",
       "      <td>correct</td>\n",
       "      <td>1.0</td>\n",
       "    </tr>\n",
       "    <tr>\n",
       "      <th>7194</th>\n",
       "      <td>8.291480</td>\n",
       "      <td>30.0</td>\n",
       "      <td>9998.0</td>\n",
       "      <td>Pointing</td>\n",
       "      <td>Infinite</td>\n",
       "      <td>correct</td>\n",
       "      <td>1.0</td>\n",
       "    </tr>\n",
       "    <tr>\n",
       "      <th>7195</th>\n",
       "      <td>4.165309</td>\n",
       "      <td>150.0</td>\n",
       "      <td>9998.0</td>\n",
       "      <td>Pointing</td>\n",
       "      <td>Infinite</td>\n",
       "      <td>wrong</td>\n",
       "      <td>1.0</td>\n",
       "    </tr>\n",
       "    <tr>\n",
       "      <th>7196</th>\n",
       "      <td>8.530098</td>\n",
       "      <td>150.0</td>\n",
       "      <td>9998.0</td>\n",
       "      <td>Pointing</td>\n",
       "      <td>Infinite</td>\n",
       "      <td>wrong</td>\n",
       "      <td>1.0</td>\n",
       "    </tr>\n",
       "    <tr>\n",
       "      <th>7197</th>\n",
       "      <td>12.060486</td>\n",
       "      <td>120.0</td>\n",
       "      <td>9998.0</td>\n",
       "      <td>Pointing</td>\n",
       "      <td>Infinite</td>\n",
       "      <td>wrong</td>\n",
       "      <td>1.0</td>\n",
       "    </tr>\n",
       "    <tr>\n",
       "      <th>7198</th>\n",
       "      <td>3.706623</td>\n",
       "      <td>150.0</td>\n",
       "      <td>9998.0</td>\n",
       "      <td>Pointing</td>\n",
       "      <td>Infinite</td>\n",
       "      <td>correct</td>\n",
       "      <td>1.0</td>\n",
       "    </tr>\n",
       "    <tr>\n",
       "      <th>7199</th>\n",
       "      <td>8.592371</td>\n",
       "      <td>90.0</td>\n",
       "      <td>9998.0</td>\n",
       "      <td>Pointing</td>\n",
       "      <td>Infinite</td>\n",
       "      <td>correct</td>\n",
       "      <td>1.0</td>\n",
       "    </tr>\n",
       "  </tbody>\n",
       "</table>\n",
       "<p>20083 rows × 7 columns</p>\n",
       "</div>"
      ],
      "text/plain": [
       "      ReactionTime  AngularDiffBin  Subject      Task      Time   Answer  \\\n",
       "0         1.664824           150.0   1216.0  Absolute      3sec    wrong   \n",
       "1         0.865788            30.0   1216.0  Absolute      3sec  correct   \n",
       "2         1.284187            60.0   1216.0  Absolute      3sec    wrong   \n",
       "3         2.081390           180.0   1216.0  Absolute      3sec    wrong   \n",
       "4         1.424746           120.0   1216.0  Absolute      3sec  correct   \n",
       "5         1.498336           180.0   1216.0  Absolute      3sec  correct   \n",
       "6         1.213375           150.0   1216.0  Absolute      3sec    wrong   \n",
       "7         1.248617            60.0   1216.0  Absolute      3sec  correct   \n",
       "8         0.788024           120.0   1216.0  Absolute      3sec  correct   \n",
       "9         1.573254            90.0   1216.0  Absolute      3sec  correct   \n",
       "...            ...             ...      ...       ...       ...      ...   \n",
       "7190      6.566712            90.0   9998.0  Pointing  Infinite    wrong   \n",
       "7191      5.076389           120.0   9998.0  Pointing  Infinite    wrong   \n",
       "7192      6.590226            60.0   9998.0  Pointing  Infinite    wrong   \n",
       "7193      5.707828           120.0   9998.0  Pointing  Infinite  correct   \n",
       "7194      8.291480            30.0   9998.0  Pointing  Infinite  correct   \n",
       "7195      4.165309           150.0   9998.0  Pointing  Infinite    wrong   \n",
       "7196      8.530098           150.0   9998.0  Pointing  Infinite    wrong   \n",
       "7197     12.060486           120.0   9998.0  Pointing  Infinite    wrong   \n",
       "7198      3.706623           150.0   9998.0  Pointing  Infinite  correct   \n",
       "7199      8.592371            90.0   9998.0  Pointing  Infinite  correct   \n",
       "\n",
       "      Measurement  \n",
       "0             1.0  \n",
       "1             1.0  \n",
       "2             1.0  \n",
       "3             1.0  \n",
       "4             1.0  \n",
       "5             1.0  \n",
       "6             1.0  \n",
       "7             1.0  \n",
       "8             1.0  \n",
       "9             1.0  \n",
       "...           ...  \n",
       "7190          1.0  \n",
       "7191          1.0  \n",
       "7192          1.0  \n",
       "7193          1.0  \n",
       "7194          1.0  \n",
       "7195          1.0  \n",
       "7196          1.0  \n",
       "7197          1.0  \n",
       "7198          1.0  \n",
       "7199          1.0  \n",
       "\n",
       "[20083 rows x 7 columns]"
      ]
     },
     "execution_count": 91,
     "metadata": {},
     "output_type": "execute_result"
    }
   ],
   "source": [
    "# Install xlrd if not installed\n",
    "!pip install xlrd\n",
    "\n",
    "df = pd.read_excel('Seahaven_dataset.xlsx', sheet_name = None, header = 0)\n",
    "df = pd.concat(df[frame][['ReactionTime', 'AngularDiffBin', 'Subject', 'Task', 'Time', 'Answer', 'Measurement']] for frame in df.keys())\n",
    "rows_before_clean = df.shape[0]\n",
    "df = df.dropna()\n",
    "rows_after_clean = df.shape[0]\n",
    "\n",
    "print(\"Total number of rows deleted = \",format(rows_before_clean - rows_after_clean))\n",
    "df.loc[df['Answer'] == 0, 'Answer'] = \"wrong\"\n",
    "df.loc[df['Answer'] == 1, 'Answer'] = \"correct\"\n",
    "df"
   ]
  },
  {
   "cell_type": "markdown",
   "metadata": {},
   "source": [
    "### b) Checking the distribution of the data [2 pts]"
   ]
  },
  {
   "cell_type": "markdown",
   "metadata": {},
   "source": [
    "Most of the analysis techniques require normally distributed data. To get an idea on how the data looks like use the **preprocessed data** from 1.a) and plot for each task a violinplot that displays the data distribution of the RTs (note that you also have to distinguish between the two time conditions - 3sec and Infinite).\n",
    "\n",
    "- For each task (Absolute, Relative, Pointing) and time condition (3sec, Infinite) calculate the mean RT per subject.\n",
    "- Make a violinplot for each combination of task and time condition (you should end up with 6 violinplots). Make sure that the data distributions are displayed clearly and that the y-axes are uniformly scaled to make your plots comparable. You may split up the single plots for a better overview.\n",
    "- Hint: Play with the keyword inner.\n",
    "- Using your plots, what can you say about the distribution of the data? It is normally distributed? How is it skewed?"
   ]
  },
  {
   "cell_type": "code",
   "execution_count": 92,
   "metadata": {},
   "outputs": [
    {
     "name": "stderr",
     "output_type": "stream",
     "text": [
      "C:\\ProgramData\\Anaconda3\\lib\\site-packages\\scipy\\stats\\stats.py:1713: FutureWarning: Using a non-tuple sequence for multidimensional indexing is deprecated; use `arr[tuple(seq)]` instead of `arr[seq]`. In the future this will be interpreted as an array index, `arr[np.array(seq)]`, which will result either in an error or a different result.\n",
      "  return np.add.reduce(sorted[indexer] * weights, axis=axis) / sumval\n"
     ]
    },
    {
     "data": {
      "text/plain": [
       "[Text(0.5,0,'Pointing - Infinite')]"
      ]
     },
     "execution_count": 92,
     "metadata": {},
     "output_type": "execute_result"
    },
    {
     "data": {
      "image/png": "[encoded data removed]",
      "text/plain": [
       "<Figure size 1080x720 with 6 Axes>"
      ]
     },
     "metadata": {},
     "output_type": "display_data"
    }
   ],
   "source": [
    "fig, axes = plt.subplots(nrows=2,ncols=3, figsize=(15,10), sharey=True)\n",
    "fig.suptitle('Violinplot for each combination of task and time condition')\n",
    "\n",
    "axis = sns.violinplot(y='ReactionTime', data=df[(df['Task'] == 'Absolute') & (df['Time'] == '3sec')].groupby('Subject', as_index = False)['ReactionTime'].mean(), ax=axes[0][0])\n",
    "axis.set(xlabel=\"Absolute - 3 sec Time\")\n",
    "\n",
    "axis = sns.violinplot(y='ReactionTime', data=df[(df['Task'] == 'Relative') & (df['Time'] == '3sec')].groupby('Subject', as_index = False)['ReactionTime'].mean(), ax=axes[0][1])\n",
    "axis.set(xlabel=\"Relative - 3 sec Time\")\n",
    "\n",
    "axis = sns.violinplot(y='ReactionTime', data=df[(df['Task'] == 'Pointing') & (df['Time'] == '3sec')].groupby('Subject', as_index = False)['ReactionTime'].mean(), ax=axes[0][2])\n",
    "axis.set(xlabel=\"Pointing - 3 sec Time\")\n",
    "\n",
    "axis = sns.violinplot(y='ReactionTime', data=df[(df['Task'] == 'Absolute') & (df['Time'] == 'Infinite')].groupby('Subject', as_index = False)['ReactionTime'].mean(), ax=axes[1][0])\n",
    "axis.set(xlabel=\"Absolute - Infinite\")\n",
    "\n",
    "axis = sns.violinplot(y='ReactionTime', data=df[(df['Task'] == 'Relative') & (df['Time'] == 'Infinite')].groupby('Subject', as_index = False)['ReactionTime'].mean(), ax=axes[1][1])\n",
    "axis.set(xlabel=\"Relative - Infinite\")\n",
    "\n",
    "axis = sns.violinplot(y='ReactionTime', data=df[(df['Task'] == 'Pointing') & (df['Time'] == 'Infinite')].groupby('Subject', as_index = False)['ReactionTime'].mean(), ax=axes[1][2])\n",
    "axis.set(xlabel=\"Pointing - Infinite\")"
   ]
  },
  {
   "cell_type": "markdown",
   "metadata": {},
   "source": [
    "You may have noticed that there are (extreme) outliers, that have to be removed from the **preprocessed data**.\n",
    "\n",
    "- For each task (Absolute, Relative, Pointing) and time condition (3sec, Infinite) look at the RTs and keep only the ones that are within +2 and -2 standard deviation:\n",
    "\n",
    "$ |(RT_{group1} - mean(RT_{group1}))| \\leq (2*std(RT_{group1})) $\n",
    "\n",
    "$group1$ = e.g. data of absolute task for time condition 3sec\n",
    "\n",
    "- Make again a violinplot for each combination of task and time condition (you should end up with 6 violinplots). Make sure that the data distributions are displayed clearly and that the y-axes are uniformly scaled to make your plots comparable. You may split up the single plots for a better overview.\n",
    "- How does the distribution of the data look now? Is it still skewed?"
   ]
  },
  {
   "cell_type": "code",
   "execution_count": 93,
   "metadata": {},
   "outputs": [
    {
     "name": "stderr",
     "output_type": "stream",
     "text": [
      "C:\\ProgramData\\Anaconda3\\lib\\site-packages\\scipy\\stats\\stats.py:1713: FutureWarning: Using a non-tuple sequence for multidimensional indexing is deprecated; use `arr[tuple(seq)]` instead of `arr[seq]`. In the future this will be interpreted as an array index, `arr[np.array(seq)]`, which will result either in an error or a different result.\n",
      "  return np.add.reduce(sorted[indexer] * weights, axis=axis) / sumval\n"
     ]
    },
    {
     "data": {
      "text/plain": [
       "[Text(0.5,0,'Pointing - Infinite')]"
      ]
     },
     "execution_count": 93,
     "metadata": {},
     "output_type": "execute_result"
    },
    {
     "data": {
      "image/png": "[encoded data removed]",
      "text/plain": [
       "<Figure size 1080x720 with 6 Axes>"
      ]
     },
     "metadata": {},
     "output_type": "display_data"
    }
   ],
   "source": [
    "df_mean = df.groupby(['Task', 'Time']).mean() [['ReactionTime']]\n",
    "df_std = df.groupby(['Task', 'Time']).std() [['ReactionTime']]\n",
    "\n",
    "for name in df_mean.index:\n",
    "    mean = df_mean.loc[(name)]['ReactionTime']\n",
    "    std = df_std.loc[(name)]['ReactionTime']\n",
    "    data_Task = df[(df['Task'] == name[0]) & (df['Time'] == name[1]) & (abs(df['ReactionTime'] - mean) > 2 * std)].index\n",
    "    df.drop(data_Task, inplace = True, axis = 0)\n",
    "\n",
    "figs, axx = plt.subplots(nrows=2,ncols=3, figsize=(15,10), sharey=True)\n",
    "fig.suptitle('Outliers free Violinplot for each combination of task and time condition')\n",
    "\n",
    "axis = sns.violinplot(y='ReactionTime', data=df[(df['Task'] == 'Absolute') & (df['Time'] == '3sec')].groupby(['Subject']).mean(), ax=axx[0][0])\n",
    "axis.set(xlabel=\"Absolute - 3 sec Time\")\n",
    "\n",
    "axis = sns.violinplot(y='ReactionTime', data=df[(df['Task'] == 'Relative') & (df['Time'] == '3sec')].groupby(['Subject']).mean(), ax=axx[0][1])\n",
    "axis.set(xlabel=\"Relative - 3 sec Time\")\n",
    "\n",
    "axis = sns.violinplot(y='ReactionTime', data=df[(df['Task'] == 'Pointing') & (df['Time'] == '3sec')].groupby(['Subject']).mean(), ax=axx[0][2])\n",
    "axis.set(xlabel=\"Pointing - 3 sec Time\")\n",
    "\n",
    "axis = sns.violinplot(y='ReactionTime', data=df[(df['Task'] == 'Absolute') & (df['Time'] == 'Infinite')].groupby(['Subject']).mean(), ax=axx[1][0])\n",
    "axis.set(xlabel=\"Absolute - Infinite\")\n",
    "\n",
    "axis = sns.violinplot(y='ReactionTime', data=df[(df['Task'] == 'Relative') & (df['Time'] == 'Infinite')].groupby(['Subject']).mean(), ax=axx[1][1])\n",
    "axis.set(xlabel=\"Relative - Infinite\")\n",
    "\n",
    "axis = sns.violinplot(y='ReactionTime', data=df[(df['Task'] == 'Pointing') & (df['Time'] == 'Infinite')].groupby(['Subject']).mean(), ax=axx[1][2])\n",
    "axis.set(xlabel=\"Pointing - Infinite\")"
   ]
  },
  {
   "cell_type": "markdown",
   "metadata": {},
   "source": [
    "**Please make sure that you use the preprocessed data without outliers for the following assignments!**"
   ]
  },
  {
   "cell_type": "markdown",
   "metadata": {},
   "source": [
    "## Assignment 2: Checking for possible hypotheses [5 pts]"
   ]
  },
  {
   "cell_type": "markdown",
   "metadata": {},
   "source": [
    "### a) Hypothesis 1 [2 pt]"
   ]
  },
  {
   "cell_type": "markdown",
   "metadata": {},
   "source": [
    "**Hypothesis 1:** \"Given that subjects are limited by time, if they are faster in RT they are also less accurate.\"\n",
    "\n",
    "- Use the data of the relative task.\n",
    "- For each time condition (3sec / Infinite) calculate the mean RT and Accuracy per subject. Rename the column \"Answer\" to \"Accuracy\" (the accuracy corresponds to the averaged answer-values).\n",
    "- Make a scatterplot of the mean RT (x-axis) and the accuracy (y-axis) for the time condition \"3sec\". \n",
    "- Make a second scatterplot and add a simple linear regression line to it. Calculate the slope of the regression line (you are allowed to use scipy). \n",
    "- Considering your results, what can you say about the hypothesis?"
   ]
  },
  {
   "cell_type": "code",
   "execution_count": null,
   "metadata": {},
   "outputs": [],
   "source": [
    "# TODO"
   ]
  },
  {
   "cell_type": "markdown",
   "metadata": {},
   "source": [
    "### b) Hypothesis 2 [1 pt]"
   ]
  },
  {
   "cell_type": "markdown",
   "metadata": {},
   "source": [
    "**Hypothesis 2:** \"Given that subjects have infinite time, they perform better.\"\n",
    "\n",
    "- Use the data of all three tasks.\n",
    "- For each task (Absolute, Relative, Pointing) and time condition (3sec, Infinite) calculate the accuracy per subject. Rename the column \"Answer\" to \"Accuracy\" (the accuracy corresponds to the averaged answer-values).\n",
    "- Make a pointplot of the tasks (x-axis) and the accuracy (y-axis) for both time conditions (3sec / Infinite). The y-axis should start at 0.0 and end at 1.0.\n",
    "- For better comparison print both conditions in one plot and add a line at accuracy=0.5 to check if the results are above chance.\n",
    "- Hint: Play with the keyword dodge.\n",
    "- Considering your plots, what can you say about the hypothesis?"
   ]
  },
  {
   "cell_type": "code",
   "execution_count": null,
   "metadata": {},
   "outputs": [],
   "source": [
    "# TODO"
   ]
  },
  {
   "cell_type": "markdown",
   "metadata": {},
   "source": [
    "### d) Hypothesis 3 [1 pt]"
   ]
  },
  {
   "cell_type": "markdown",
   "metadata": {},
   "source": [
    "**Hypothesis 3:** \"With each subsequent session subjects get better in performance.\"\n",
    "\n",
    "- Use the data of the relative task.\n",
    "- For each time condition (3sec / Infinite) calculate the mean RT and Accuracy per subject. Rename the column \"Answer\" to \"Accuracy\" (the accuracy corresponds to the averaged answer-values).\n",
    "- Make a pointplot of the measurement (x-axis) and the accuracy (y-axis) for both time conditions (3sec / Infinite). The y-axis should start at 0.0 and end at 1.0.\n",
    "- For better comparison print both conditions in one plot and add a line at accuracy=0.5 to check if the results are above chance.\n",
    "- Hint: Play with the keyword dodge.\n",
    "- Make also a pointplot of the measurement (x-axis) and RT (y-axis) for both time conditions (3sec / Infinite).  Make sure that the data is displayed clearly. You may split up the single plots for a better overview.\n",
    "- Considering your plots, what can you say about the hypothesis?"
   ]
  },
  {
   "cell_type": "code",
   "execution_count": null,
   "metadata": {},
   "outputs": [],
   "source": [
    "# TODO"
   ]
  },
  {
   "cell_type": "markdown",
   "metadata": {},
   "source": [
    "### c) Hypothesis 4 [1 pts]"
   ]
  },
  {
   "cell_type": "markdown",
   "metadata": {},
   "source": [
    "**Hypothesis 4:** \"When the angular difference between houses increases subjects are more accurate in the relative task.\"\n",
    "\n",
    "- Use the data of the relative task.\n",
    "- For each angular difference (see \"AngularDiffBin\") calculate the accuracy per subject. Rename the column \"Answer\" to \"Accuracy\" (the accuracy corresponds to the averaged answer-values).\n",
    "- Make a pointplot of the angular differences (x-axis) and the accuracy (y-axis) for both time conditions (3sec / Infinite). The y-axis should start at 0.0 and end at 1.0.\n",
    "- For better comparison print both conditions in one plot and add a line at accuracy=0.5 to check if the results are above chance. Make sure that the angular differences are displayed in ascending order.\n",
    "- Hint: Play with the keyword dodge.\n",
    "- Considering your plots, what can you say about the hypothesis?"
   ]
  },
  {
   "cell_type": "code",
   "execution_count": null,
   "metadata": {},
   "outputs": [],
   "source": [
    "# TODO"
   ]
  },
  {
   "cell_type": "markdown",
   "metadata": {},
   "source": [
    "## Assignment 3: T-test [2 pts]"
   ]
  },
  {
   "cell_type": "markdown",
   "metadata": {},
   "source": [
    "We will perform a two-sample t-test, i.e. we compare the mean of two groups under the assumption that both are independent and normally distributed with unknown but equal variances. In this case we will look at the data of the relative task and compare the accuracies of the two time conditions (3sec / Infinte). We will ignore that there are different measurement days!\n",
    "\n",
    "- Use the data of the relative task.\n",
    "- For each time condition (3sec / Infinite) calculate the accuracy per subject. Rename the column \"Answer\" to \"Accuracy\" (the accuracy corresponds to the averaged answer-values).\n",
    "- Check if the data is normally distributed using scipy.stats.normaltest.\n",
    "\n",
    "\n",
    "- Compute the t-statistics: $ t = \\frac{\\bar{x}_1 - \\bar{x}_2}{\\sqrt{\\frac{s_1^2}{n_1} + \\frac{s_2^2}{n_2}}} $\n",
    "\n",
    "$\\bar{x}_1$: mean accuracy of all subjects for time condition \"3sec\" <br>\n",
    "$\\bar{x}_2$: mean accuracy of all subjects for time condition \"Infinite\" <br>\n",
    "$n_1$: sample size for time condition \"3sec\" <br>\n",
    "$n_2$: sample size for time condition \"Infinite\"\n",
    "\n",
    "\n",
    "- with $ s^2 = \\frac{\\sum_{i=1}^n{(x_i - \\bar{x})^2}}{n-1} $\n",
    "\n",
    "$x_i$: accuracy of subject i <br>\n",
    "$\\bar{x}$: mean accuracy of all subjects <br>\n",
    "$n$: sample size\n",
    "\n",
    "\n",
    "- Calculate the degrees of freedom: $ df = n_1 + n_2 -2 $\n",
    "- What does the p-value of a t-test tell you in general? Also explain what your calculated p-value tells you specifically (given $\\alpha = 0.05$)?"
   ]
  },
  {
   "cell_type": "code",
   "execution_count": null,
   "metadata": {},
   "outputs": [],
   "source": [
    "# TODO\n",
    "\n",
    "# gives you the p-value after comparing the t-statistic with the critical t value (computed internally) \n",
    "p = 1 - stats.t.cdf(t,df=df)\n",
    "\n",
    "print(\"t = \" + str(t))\n",
    "print(\"p = \" + str(2*p))\n",
    "\n",
    "# test if your calculation is correct\n",
    "t2, p2 = stats.ttest_ind(x1,x2)\n",
    "print(\"t = \" + str(t2))\n",
    "print(\"p = \" + str(p2))"
   ]
  }
 ],
 "metadata": {
  "kernelspec": {
   "display_name": "Python 3",
   "language": "python",
   "name": "python3"
  },
  "language_info": {
   "codemirror_mode": {
    "name": "ipython",
    "version": 3
   },
   "file_extension": ".py",
   "mimetype": "text/x-python",
   "name": "python",
   "nbconvert_exporter": "python",
   "pygments_lexer": "ipython3",
   "version": "3.7.0"
  }
 },
 "nbformat": 4,
 "nbformat_minor": 2
}
